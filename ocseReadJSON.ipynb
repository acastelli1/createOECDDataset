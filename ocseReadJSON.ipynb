{
 "cells": [
  {
   "cell_type": "code",
   "execution_count": 83,
   "metadata": {},
   "outputs": [],
   "source": [
    "import urllib.request, json \n",
    "import pandas as pd"
   ]
  },
  {
   "cell_type": "code",
   "execution_count": 84,
   "metadata": {},
   "outputs": [],
   "source": [
    "#Create Api call example\n",
    "dataset_identifier=\"ICT_HH2\"\n",
    "filter_dict={\"Country\":[\"FRA\"],\n",
    "             \"Indicator\":[\"\"], #Take all the indicators\n",
    "             \"Breakdown\":[\"\"]}\n",
    "agency_name=\"all\"\n",
    "params={\"detail\":\"dataonly\"}"
   ]
  },
  {
   "cell_type": "code",
   "execution_count": 89,
   "metadata": {},
   "outputs": [],
   "source": [
    "def makeAPICall(dataset_identifier,\n",
    "                filter_dict,\n",
    "                agency_name,\n",
    "                params={},\n",
    "                OECD_BASE_URL=\"https://stats.oecd.org/SDMX-JSON/data/\"):\n",
    "    # See https://data.oecd.org/api/sdmx-json-documentation/#d.en.330346\n",
    "    \"\"\"\n",
    "    Create the url for the OECD API\n",
    "    Arguments:\n",
    "        dataset_identifier: string containing the name of the dataset\n",
    "        filter_dict: dictionary containing the value of the variables to query (Country can be only one)\n",
    "        agency_name: agency name to pass to the api  \n",
    "    \"\"\"\n",
    "\n",
    "    filter_expression=\"\"\n",
    "    filter_list=[]\n",
    "\n",
    "    if all(filter_dict.values())==\"\":\n",
    "        filter_expression=\"all\"\n",
    "    else:\n",
    "        for dim in filter_dict.keys():\n",
    "            filter_list.append(\"+\".join(filter_dict[dim]))\n",
    "    filter_expression=\".\".join(filter_list)\n",
    "    \n",
    "    api_string=f\"{OECD_BASE_URL}{dataset_identifier}/{filter_expression}/{agency_name}\"\n",
    "    if len(params)>0:\n",
    "        api_string+=\"?\"\n",
    "        for par in params.keys():\n",
    "            api_string+=(par+'='+params[par])\n",
    "\n",
    "    return api_string"
   ]
  },
  {
   "cell_type": "code",
   "execution_count": 118,
   "metadata": {},
   "outputs": [],
   "source": [
    "#json_url=makeAPICall(dataset_identifier,filter_dict,agency_name,params)\n",
    "#print(json_url)"
   ]
  },
  {
   "cell_type": "code",
   "execution_count": 119,
   "metadata": {},
   "outputs": [],
   "source": [
    "def getData(json_url):\n",
    "    \"Return a dict with the data\"\n",
    "    \n",
    "    with urllib.request.urlopen(json_url) as url:\n",
    "        data = json.loads(url.read().decode())\n",
    "        #print(data)\n",
    "    return data"
   ]
  },
  {
   "cell_type": "code",
   "execution_count": 120,
   "metadata": {},
   "outputs": [],
   "source": [
    "def convertToPandas(data):\n",
    "    col_names=[x[\"id\"] for x in data[\"structure\"][\"dimensions\"][\"observation\"][0][\"values\"] ]\n",
    "    #print(col_names)\n",
    "     \n",
    "    dataset_dimensions = data[\"structure\"][\"dimensions\"][\"series\"]\n",
    "    print(f\"Dataset dimensions:\\t{len(dataset_dimensions)}\")\n",
    "    \n",
    "    country = dataset_dimensions[0][\"values\"][0][\"id\"]\n",
    "    print(f\"Country:\\t{country}\\n\")\n",
    "    \n",
    "    indicators=[x[\"id\"] for x in dataset_dimensions[1][\"values\"]]\n",
    "    print(f\"Indicators:\\t{indicators}\")\n",
    "    print(f\"N indicators = {len(indicators)}\\n\")\n",
    "    \n",
    "    breakdowns=[x[\"id\"] for x in dataset_dimensions[2][\"values\"]]\n",
    "    print(f\"Breakdowns:\\t{breakdowns}\")\n",
    "    print(f\"N breakdowns = {len(breakdowns)}\")\n",
    "    \n",
    "    df_ind_list=[]\n",
    "    \n",
    "    for k in data[\"dataSets\"][0][\"series\"].keys():\n",
    "        ind = int(k.split(':')[1])\n",
    "        brkd = int(k.split(':')[2])\n",
    "        df = pd.DataFrame(data[\"dataSets\"][0][\"series\"][k]['observations'])\n",
    "        df[\"Var\"]=indicators[ind]\n",
    "        df[\"Brkd\"]=breakdowns[brkd]\n",
    "        df.set_index([\"Var\",\"Brkd\"],inplace=True)\n",
    "        df_ind_list.append(df)\n",
    "        \n",
    "    \n",
    "    df_res=pd.concat(df_ind_list,sort=False)\n",
    "    df_res.columns = col_names\n",
    "    \n",
    "    df_res.reset_index(inplace=True)\n",
    "    df_res[\"Country\"]=country\n",
    "    \n",
    "    return df_res.set_index([\"Country\",\"Var\",\"Brkd\"])"
   ]
  },
  {
   "cell_type": "code",
   "execution_count": 127,
   "metadata": {},
   "outputs": [],
   "source": [
    "#convertToPandas(data)"
   ]
  },
  {
   "cell_type": "markdown",
   "metadata": {},
   "source": [
    "### Create final dataset"
   ]
  },
  {
   "cell_type": "code",
   "execution_count": 135,
   "metadata": {},
   "outputs": [],
   "source": [
    "def createMultipleCountryDataset(country_list):\n",
    "    \"\"\"\n",
    "    Create a dataset with multiple countries\n",
    "    \"\"\"\n",
    "\n",
    "    df_to_concat = []\n",
    "\n",
    "    for country in country_list:\n",
    "        filter_dict[\"Country\"] = [country]\n",
    "        json_url=makeAPICall(dataset_identifier,filter_dict,agency_name,params)\n",
    "        print(json_url)\n",
    "        data=getData(json_url)\n",
    "        df_to_concat.append(convertToPandas(data))\n",
    "    \n",
    "    res = pd.concat(df_to_concat,sort=False)\n",
    "    res.columns = sorted(res.columns)\n",
    "    \n",
    "    return res"
   ]
  },
  {
   "cell_type": "code",
   "execution_count": null,
   "metadata": {},
   "outputs": [],
   "source": []
  },
  {
   "cell_type": "code",
   "execution_count": 136,
   "metadata": {},
   "outputs": [
    {
     "name": "stdout",
     "output_type": "stream",
     "text": [
      "https://stats.oecd.org/SDMX-JSON/data/ICT_HH2/DEU../all?detail=dataonly\n",
      "Dataset dimensions:\t3\n",
      "Country:\tDEU\n",
      "\n",
      "Indicators:\t['A1', 'B1', 'B21', 'B21A', 'B21B', 'C2A', 'C2B', 'C5A', 'C5B', 'C5B1', 'D1A', 'D1B', 'D1E', 'D1F', 'D1G', 'D1H', 'D1I', 'D1J', 'D1K', 'D1M', 'D1N', 'D1O', 'D1P', 'D1Q', 'D1R', 'D1T', 'D1U', 'F1', 'F1A', 'F1B', 'F1C', 'G1', 'G2A', 'G2B', 'G2C', 'G2G', 'G2H', 'G2I', 'G2J', 'G2K', 'G2M', 'G2N', 'G2O', 'H1A', 'H1B', 'H1C', 'H1D', 'H1E', 'H1F', 'H1G', 'H1H', 'H1I', 'H1J', 'H1K', 'H1L', 'H1M', 'I3', 'I3A', 'I3B', 'I3C', 'I3D', 'F4G', 'F4B', 'I6', 'I7C', 'I8', 'F4F', 'I7B', 'F4J', 'F4A', 'I9', 'I7A', 'D1W', 'G2DBIS', 'C6E']\n",
      "N indicators = 75\n",
      "\n",
      "Breakdowns:\t['HH_TOTAL', 'HH_Q1', 'HH_Q2', 'HH_Q3', 'HH_Q4', 'IND_TOTAL', 'I_HI', 'I_ME', 'I_LO', 'Y16_24', 'Y16_24HI', 'Y16_24ME', 'Y16_24LO', 'Y25_54', 'Y25_54HI', 'Y25_54ME', 'Y25_54LO', 'Y55_74', 'Y55_74HI', 'Y55_74ME', 'Y55_74LO', 'Y75_MAX', 'F_Y16_74', 'F_HI', 'F_ME', 'F_LO', 'F_Y16_24', 'F_Y25_54', 'F_Y55_74', 'M_Y16_74', 'M_HI', 'M_ME', 'M_LO', 'M_Y16_24', 'M_Y25_54', 'M_Y55_74', 'IND_Q1', 'IND_Q2', 'IND_Q3', 'IND_Q4', 'STUD', 'SAL_SELF_FAM', 'UNE', 'RETIR_OTHER', 'HH_DEG_PURBAN', 'HH_DEG_INT', 'HH_DEG_PRURAL']\n",
      "N breakdowns = 47\n",
      "https://stats.oecd.org/SDMX-JSON/data/ICT_HH2/FRA../all?detail=dataonly\n",
      "Dataset dimensions:\t3\n",
      "Country:\tFRA\n",
      "\n",
      "Indicators:\t['A1', 'B1', 'B21', 'B21A', 'B21B', 'C2A', 'C2B', 'C5A', 'C5B', 'C5B1', 'D1A', 'D1B', 'D1F', 'D1G', 'D1H', 'D1I', 'D1J', 'D1K', 'D1M', 'D1N', 'D1O', 'D1P', 'D1Q', 'D1R', 'D1T', 'D1U', 'F1', 'F1A', 'F1B', 'F1C', 'G1', 'G2A', 'G2B', 'G2C', 'G2G', 'G2H', 'G2I', 'G2J', 'G2K', 'G2M', 'G2N', 'G2O', 'H1A', 'H1B', 'H1C', 'H1D', 'H1E', 'H1F', 'H1G', 'H1H', 'H1I', 'H1J', 'H1K', 'H1L', 'H1M', 'I3', 'I3A', 'I3B', 'I3C', 'I3D', 'D1E', 'F4A', 'F4F', 'I9', 'I7A', 'I7C', 'G2DBIS', 'D1W', 'F4G', 'F4B', 'I7B', 'I8', 'C6E', 'F4J', 'I6']\n",
      "N indicators = 75\n",
      "\n",
      "Breakdowns:\t['HH_TOTAL', 'HH_Q1', 'HH_Q2', 'HH_Q3', 'HH_Q4', 'IND_TOTAL', 'I_HI', 'I_ME', 'I_LO', 'Y16_24', 'Y16_24HI', 'Y16_24ME', 'Y16_24LO', 'Y25_54', 'Y25_54HI', 'Y25_54ME', 'Y25_54LO', 'Y55_74', 'Y55_74HI', 'Y55_74ME', 'Y55_74LO', 'F_Y16_74', 'F_HI', 'F_ME', 'F_LO', 'F_Y16_24', 'F_Y25_54', 'F_Y55_74', 'M_Y16_74', 'M_HI', 'M_ME', 'M_LO', 'M_Y16_24', 'M_Y25_54', 'M_Y55_74', 'IND_Q1', 'IND_Q2', 'IND_Q3', 'IND_Q4', 'STUD', 'SAL_SELF_FAM', 'UNE', 'RETIR_OTHER', 'HH_DEG_PURBAN', 'HH_DEG_INT', 'HH_DEG_PRURAL']\n",
      "N breakdowns = 46\n",
      "https://stats.oecd.org/SDMX-JSON/data/ICT_HH2/AUS../all?detail=dataonly\n",
      "Dataset dimensions:\t3\n",
      "Country:\tAUS\n",
      "\n",
      "Indicators:\t['A1', 'B1', 'B21', 'B21A', 'B21B', 'HOU', 'C5A', 'C6A', 'C6B', 'C6C', 'C6D', 'D1A', 'D1B', 'D1E', 'D1K', 'D1Q', 'D1T', 'F1B', 'G1', 'G2H', 'G2K', 'G2O', 'IND', 'C5B', 'D1H', 'G2B', 'G2C', 'G2J', 'G2N']\n",
      "N indicators = 29\n",
      "\n",
      "Breakdowns:\t['HH_TOTAL', 'HH_Q1', 'HH_Q2', 'HH_Q3', 'HH_Q4', 'IND_TOTAL', 'I_HI', 'Y16_24', 'Y16_24HI', 'Y75_MAX', 'F_Y16_74', 'F_HI', 'F_Y16_24', 'F_Y16_24_HI', 'F_Y25_54', 'F_Y25_54_HI', 'F_Y55_74', 'F_Y55_74_HI', 'M_Y16_74', 'M_HI', 'M_Y16_24', 'M_Y16_24_HI', 'M_Y25_54', 'M_Y25_54_HI', 'M_Y55_74', 'M_Y55_74_HI', 'I_ME', 'I_LO', 'Y16_24ME', 'Y16_24LO', 'Y25_54', 'Y25_54HI', 'Y25_54ME', 'Y25_54LO', 'Y55_74', 'Y55_74HI', 'Y55_74ME', 'Y55_74LO', 'F_ME', 'F_LO', 'F_Y16_24_ME', 'F_Y16_24_LO', 'F_Y25_54_ME', 'F_Y25_54_LO', 'F_Y55_74_ME', 'F_Y55_74_LO', 'M_ME', 'M_LO', 'M_Y16_24_ME', 'M_Y16_24_LO', 'M_Y25_54_ME', 'M_Y25_54_LO', 'M_Y55_74_ME', 'M_Y55_74_LO']\n",
      "N breakdowns = 54\n",
      "https://stats.oecd.org/SDMX-JSON/data/ICT_HH2/BEL../all?detail=dataonly\n",
      "Dataset dimensions:\t3\n",
      "Country:\tBEL\n",
      "\n",
      "Indicators:\t['A1', 'B1', 'B21', 'B21A', 'B21B', 'C2A', 'C2B', 'C5A', 'C5B', 'C5B1', 'D1A', 'D1B', 'D1E', 'D1F', 'D1G', 'D1H', 'D1I', 'D1J', 'D1K', 'D1M', 'D1N', 'D1O', 'D1P', 'D1Q', 'D1R', 'D1T', 'D1U', 'F1', 'F1A', 'F1B', 'F1C', 'G1', 'G2A', 'G2B', 'G2C', 'G2G', 'G2H', 'G2I', 'G2J', 'G2K', 'G2M', 'G2N', 'G2O', 'H1A', 'H1B', 'H1C', 'H1D', 'H1E', 'H1F', 'H1G', 'H1H', 'H1I', 'H1J', 'H1K', 'H1L', 'H1M', 'I3', 'I3A', 'I3B', 'I3C', 'I3D', 'G2DBIS', 'F4A', 'C6E', 'I8', 'I7A', 'D1W', 'F4I', 'I7B', 'I6', 'I7C', 'F4F', 'F4B', 'F4G', 'F4J']\n",
      "N indicators = 75\n",
      "\n",
      "Breakdowns:\t['HH_TOTAL', 'HH_Q1', 'HH_Q2', 'HH_Q3', 'HH_Q4', 'IND_TOTAL', 'I_HI', 'I_ME', 'I_LO', 'Y16_24', 'Y16_24HI', 'Y16_24ME', 'Y16_24LO', 'Y25_54', 'Y25_54HI', 'Y25_54ME', 'Y25_54LO', 'Y55_74', 'Y55_74HI', 'Y55_74ME', 'Y55_74LO', 'F_Y16_74', 'F_HI', 'F_ME', 'F_LO', 'F_Y16_24', 'F_Y25_54', 'F_Y55_74', 'M_Y16_74', 'M_HI', 'M_ME', 'M_LO', 'M_Y16_24', 'M_Y25_54', 'M_Y55_74', 'IND_Q1', 'IND_Q2', 'IND_Q3', 'IND_Q4', 'STUD', 'SAL_SELF_FAM', 'UNE', 'RETIR_OTHER', 'HH_DEG_INT', 'HH_DEG_PRURAL', 'HH_DEG_PURBAN']\n",
      "N breakdowns = 46\n",
      "https://stats.oecd.org/SDMX-JSON/data/ICT_HH2/ITA../all?detail=dataonly\n",
      "Dataset dimensions:\t3\n",
      "Country:\tITA\n",
      "\n",
      "Indicators:\t['A1', 'B1', 'B21', 'B21B', 'B21A', 'C2A', 'C2B', 'C5A', 'C5B', 'C5B1', 'D1A', 'D1B', 'D1E', 'D1F', 'D1G', 'D1H', 'D1I', 'D1J', 'D1K', 'D1M', 'D1N', 'D1O', 'D1P', 'D1Q', 'D1R', 'D1T', 'D1U', 'F1', 'F1A', 'F1B', 'F1C', 'G1', 'G2A', 'G2B', 'G2C', 'G2G', 'G2H', 'G2I', 'G2J', 'G2K', 'G2M', 'G2N', 'G2O', 'H1A', 'H1B', 'H1C', 'H1D', 'H1E', 'H1F', 'H1G', 'H1H', 'H1I', 'H1J', 'H1K', 'H1L', 'H1M', 'I3', 'I3A', 'I3B', 'I3C', 'I3D', 'I6', 'G2DBIS', 'C6E', 'F4B', 'D1W', 'I7C', 'F4A', 'F4G', 'I8', 'I7B', 'F4F', 'I7A', 'I9']\n",
      "N indicators = 74\n",
      "\n",
      "Breakdowns:\t['HH_TOTAL', 'HH_Q1', 'HH_Q2', 'HH_Q3', 'HH_Q4', 'IND_TOTAL', 'I_HI', 'I_ME', 'I_LO', 'Y16_24', 'Y16_24HI', 'Y16_24ME', 'Y16_24LO', 'Y25_54', 'Y25_54HI', 'Y25_54ME', 'Y25_54LO', 'Y55_74', 'Y55_74HI', 'Y55_74ME', 'Y55_74LO', 'Y75_MAX', 'F_Y16_74', 'F_HI', 'F_ME', 'F_LO', 'F_Y16_24', 'F_Y25_54', 'F_Y55_74', 'M_Y16_74', 'M_HI', 'M_ME', 'M_LO', 'M_Y16_24', 'M_Y25_54', 'M_Y55_74', 'IND_Q1', 'IND_Q2', 'IND_Q3', 'IND_Q4', 'STUD', 'SAL_SELF_FAM', 'UNE', 'RETIR_OTHER', 'HH_DEG_PRURAL', 'HH_DEG_INT', 'HH_DEG_PURBAN']\n",
      "N breakdowns = 47\n"
     ]
    }
   ],
   "source": [
    "country_list = [\"DEU\",\"FRA\",\"AUS\",\"BEL\",\"ITA\"]\n",
    "df_final = createMultipleCountryDataset(country_list)"
   ]
  },
  {
   "cell_type": "markdown",
   "metadata": {},
   "source": [
    "### Write csv"
   ]
  },
  {
   "cell_type": "code",
   "execution_count": 125,
   "metadata": {},
   "outputs": [],
   "source": [
    "df_final.to_csv(\"data.csv\",header=True)"
   ]
  },
  {
   "cell_type": "code",
   "execution_count": null,
   "metadata": {},
   "outputs": [],
   "source": []
  }
 ],
 "metadata": {
  "kernelspec": {
   "display_name": "Python 3",
   "language": "python",
   "name": "python3"
  },
  "language_info": {
   "codemirror_mode": {
    "name": "ipython",
    "version": 3
   },
   "file_extension": ".py",
   "mimetype": "text/x-python",
   "name": "python",
   "nbconvert_exporter": "python",
   "pygments_lexer": "ipython3",
   "version": "3.7.4"
  }
 },
 "nbformat": 4,
 "nbformat_minor": 2
}
