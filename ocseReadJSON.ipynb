{
 "cells": [
  {
   "cell_type": "code",
   "execution_count": null,
   "metadata": {},
   "outputs": [],
   "source": [
    "import urllib.request, json \n",
    "import pandas as pd"
   ]
  },
  {
   "cell_type": "code",
   "execution_count": null,
   "metadata": {},
   "outputs": [],
   "source": [
    "#Create Api call example\n",
    "#dataset_identifier=\"ICT_HH2\"\n",
    "#filter_dict={\"Country\":[\"FRA\"],\n",
    "#             \"Indicator\":[\"\"], #Take all the indicators\n",
    "#             \"Breakdown\":[\"\"]} #Take all the breakdowns\n",
    "#agency_name=\"all\"\n",
    "#params={\"detail\":\"dataonly\"}"
   ]
  },
  {
   "cell_type": "code",
   "execution_count": null,
   "metadata": {},
   "outputs": [],
   "source": [
    "def makeAPICall(dataset_identifier,\n",
    "                filter_dict,\n",
    "                agency_name,\n",
    "                params={},\n",
    "                OECD_BASE_URL=\"https://stats.oecd.org/SDMX-JSON/data/\"):\n",
    "    # See https://data.oecd.org/api/sdmx-json-documentation/#d.en.330346\n",
    "    \"\"\"\n",
    "    Create the url for the OECD API\n",
    "    Arguments:\n",
    "        dataset_identifier: string containing the name of the dataset\n",
    "        filter_dict: dictionary containing the value of the variables to query (Country can be only one)\n",
    "        agency_name: agency name to pass to the api  \n",
    "    \"\"\"\n",
    "\n",
    "    filter_expression=\"\"\n",
    "    filter_list=[]\n",
    "\n",
    "    if all(filter_dict.values())==\"\":\n",
    "        filter_expression=\"all\"\n",
    "    else:\n",
    "        for dim in filter_dict.keys():\n",
    "            filter_list.append(\"+\".join(filter_dict[dim]))\n",
    "    filter_expression=\".\".join(filter_list)\n",
    "    \n",
    "    api_string=f\"{OECD_BASE_URL}{dataset_identifier}/{filter_expression}/{agency_name}\"\n",
    "    if len(params)>0:\n",
    "        api_string+=\"?\"\n",
    "        for par in params.keys():\n",
    "            api_string+=(par+'='+params[par])\n",
    "\n",
    "    return api_string"
   ]
  },
  {
   "cell_type": "code",
   "execution_count": null,
   "metadata": {},
   "outputs": [],
   "source": [
    "#json_url=makeAPICall(dataset_identifier,filter_dict,agency_name,params)\n",
    "#print(json_url)"
   ]
  },
  {
   "cell_type": "code",
   "execution_count": null,
   "metadata": {},
   "outputs": [],
   "source": [
    "def getData(json_url):\n",
    "    \"Return a dict with the data\"\n",
    "    \n",
    "    with urllib.request.urlopen(json_url) as url:\n",
    "        data = json.loads(url.read().decode())\n",
    "        #print(data)\n",
    "    return data"
   ]
  },
  {
   "cell_type": "code",
   "execution_count": null,
   "metadata": {},
   "outputs": [],
   "source": [
    "def convertToPandas(data):\n",
    "    col_names=[x[\"id\"] for x in data[\"structure\"][\"dimensions\"][\"observation\"][0][\"values\"] ]\n",
    "    #print(col_names)\n",
    "     \n",
    "    dataset_dimensions = data[\"structure\"][\"dimensions\"][\"series\"]\n",
    "    print(f\"Dataset dimensions:\\t{len(dataset_dimensions)}\")\n",
    "    \n",
    "    country = dataset_dimensions[0][\"values\"][0][\"id\"]\n",
    "    print(f\"Country:\\t{country}\\n\")\n",
    "    \n",
    "    indicators=[x[\"id\"] for x in dataset_dimensions[1][\"values\"]]\n",
    "    print(f\"Indicators:\\t{indicators}\")\n",
    "    print(f\"N indicators = {len(indicators)}\\n\")\n",
    "    \n",
    "    breakdowns=[x[\"id\"] for x in dataset_dimensions[2][\"values\"]]\n",
    "    print(f\"Breakdowns:\\t{breakdowns}\")\n",
    "    print(f\"N breakdowns = {len(breakdowns)}\")\n",
    "    \n",
    "    df_ind_list=[]\n",
    "    \n",
    "    for k in data[\"dataSets\"][0][\"series\"].keys():\n",
    "        ind = int(k.split(':')[1])\n",
    "        brkd = int(k.split(':')[2])\n",
    "        df = pd.DataFrame(data[\"dataSets\"][0][\"series\"][k]['observations'])\n",
    "        df[\"Var\"]=indicators[ind]\n",
    "        df[\"Brkd\"]=breakdowns[brkd]\n",
    "        df.set_index([\"Var\",\"Brkd\"],inplace=True)\n",
    "        df_ind_list.append(df)\n",
    "        \n",
    "    \n",
    "    df_res=pd.concat(df_ind_list,sort=False)\n",
    "    df_res.columns = col_names\n",
    "    \n",
    "    df_res.reset_index(inplace=True)\n",
    "    df_res[\"Country\"]=country\n",
    "    \n",
    "    return df_res.set_index([\"Country\",\"Var\",\"Brkd\"])"
   ]
  },
  {
   "cell_type": "code",
   "execution_count": null,
   "metadata": {},
   "outputs": [],
   "source": [
    "#convertToPandas(data)"
   ]
  },
  {
   "cell_type": "markdown",
   "metadata": {},
   "source": [
    "### Create final dataset"
   ]
  },
  {
   "cell_type": "code",
   "execution_count": null,
   "metadata": {},
   "outputs": [],
   "source": [
    "def createMultipleCountryDataset(country_list,\n",
    "                                 dataset_identifier=\"ICT_HH2\",\n",
    "                                 indicator_list=[\"\"],\n",
    "                                 breakdown_list=[\"\"],\n",
    "                                 agency_name=\"all\",                #do not touch\n",
    "                                 params={\"detail\":\"dataonly\"}      #do not touch\n",
    "                                ):\n",
    "    \"\"\"\n",
    "    Create a dataset with multiple countries\n",
    "    \"\"\"\n",
    "\n",
    "    filter_dict={\n",
    "        \"Country\":[\"\"], #leave it empty it will be overwritten by country list\n",
    "        \"Indicator\":indicator_list,\n",
    "        \"Breakdown\":breakdown_list\n",
    "    }\n",
    "    \n",
    "    df_to_concat = []\n",
    "\n",
    "    for country in country_list:\n",
    "        filter_dict[\"Country\"] = [country]\n",
    "        json_url=makeAPICall(dataset_identifier,filter_dict,agency_name,params)\n",
    "        print(json_url)\n",
    "        data=getData(json_url)\n",
    "        df_to_concat.append(convertToPandas(data))\n",
    "    \n",
    "    res = pd.concat(df_to_concat,sort=False)\n",
    "    res.columns = sorted(res.columns)\n",
    "    \n",
    "    return res"
   ]
  },
  {
   "cell_type": "markdown",
   "metadata": {},
   "source": [
    "### Multiple breakdown and indicator list is not working properly (quick workaround using loop)"
   ]
  },
  {
   "cell_type": "code",
   "execution_count": null,
   "metadata": {},
   "outputs": [],
   "source": [
    "# Specify here your list of indicators and breakdown \n",
    "country_list = [\"DEU\",\"ITA\",\"FRA\",\"AUS\"]\n",
    "indicator_list = [\"A1\",\"B1\"]\n",
    "breakdown_list = [\"HH_TOTAL\"]\n",
    "\n",
    "df_list = []\n",
    "\n",
    "for cou in country_list:\n",
    "    for ind in indicator_list:\n",
    "        for bkd in breakdown_list:\n",
    "            try:\n",
    "                df = createMultipleCountryDataset(\n",
    "                        country_list = [cou], \n",
    "                        indicator_list = [ind],\n",
    "                        breakdown_list = [bkd]\n",
    "                )                \n",
    "                df_list.append(df)\n",
    "            except:\n",
    "                raise ValueError(f\"One of {(cou,ind,bkd)} not found\")\n",
    "\n",
    "\n",
    "# Union the various dataframes\n",
    "df_final = pd.concat(df_list,sort=True)"
   ]
  },
  {
   "cell_type": "code",
   "execution_count": null,
   "metadata": {},
   "outputs": [],
   "source": [
    "df_final"
   ]
  },
  {
   "cell_type": "markdown",
   "metadata": {},
   "source": [
    "### Write csv"
   ]
  },
  {
   "cell_type": "code",
   "execution_count": null,
   "metadata": {},
   "outputs": [],
   "source": [
    "df_final.to_csv(\"data.csv\",header=True)"
   ]
  },
  {
   "cell_type": "code",
   "execution_count": null,
   "metadata": {},
   "outputs": [],
   "source": []
  }
 ],
 "metadata": {
  "kernelspec": {
   "display_name": "Python 3",
   "language": "python",
   "name": "python3"
  },
  "language_info": {
   "codemirror_mode": {
    "name": "ipython",
    "version": 3
   },
   "file_extension": ".py",
   "mimetype": "text/x-python",
   "name": "python",
   "nbconvert_exporter": "python",
   "pygments_lexer": "ipython3",
   "version": "3.7.4"
  }
 },
 "nbformat": 4,
 "nbformat_minor": 2
}
